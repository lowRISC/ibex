{
 "cells": [
  {
   "cell_type": "code",
   "execution_count": null,
   "metadata": {},
   "outputs": [],
   "source": [
    "import pandas as pd\n",
    "import plotly.express as px\n",
    "from scipy.spatial import ConvexHull\n",
    "import numpy as np\n",
    "import plotly.graph_objects as go\n",
    "import plotly.io as pio\n",
    "pio.kaleido.scope.default_format = \"svg\"\n",
    "\n",
    "df = pd.read_csv(\"redmule_complex.csv\")\n",
    "\n",
    "# Create a Plotly scatter plot\n",
    "#fig = px.line(df, x=\"cycles\", y=\"latency\", text=\"arch\", title=\"Cycles vs Latency\", labels={\"cycles\": \"CPU Cycles\", \"latency\": \"Latency\"})\n",
    "#fig = px.scatter(df, y=\"cycles\", x=\"latency\", color=\"arch\", title=\"Cycles vs Latency by Architecture\", labels={\"cycles\": \"CPU Cycles\", \"latency\": \"Latency\", \"arch\": \"Architecture\"})\n",
    "#fig = px.histogram(df, x=\"latency\", y=\"cycles\", color=\"arch\", barmode=\"group\", title=\"Histogram of Cycles vs Latency by Architecture\", labels={\"cycles\": \"CPU Cycles\", \"latency\": \"Latency\", \"arch\": \"Architecture\"})\n",
    "fig = px.bar(df, x=\"latency\", y=\"cycles\", color=\"arch\", barmode='group', labels={\"cycles\": \"CPU Cycles\", \"latency\": \"Latency\", \"arch\": \"Architecture\"})\n",
    "# Force x-axis labels to be exact values from 'latency' column\n",
    "fig.update_xaxes(type='category', categoryorder='array', categoryarray=sorted(df['latency'].unique()))\n",
    "fig.show()\n",
    "fig.write_image(\"fig1.svg\")\n",
    "# Print the DataFrame\n",
    "#print(df)"
   ]
  },
  {
   "cell_type": "code",
   "execution_count": null,
   "metadata": {},
   "outputs": [],
   "source": []
  }
 ],
 "metadata": {
  "kernelspec": {
   "display_name": "my_env",
   "language": "python",
   "name": "python3"
  },
  "language_info": {
   "codemirror_mode": {
    "name": "ipython",
    "version": 3
   },
   "file_extension": ".py",
   "mimetype": "text/x-python",
   "name": "python",
   "nbconvert_exporter": "python",
   "pygments_lexer": "ipython3",
   "version": "3.11.11"
  }
 },
 "nbformat": 4,
 "nbformat_minor": 2
}
